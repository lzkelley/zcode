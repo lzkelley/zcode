{
 "cells": [
  {
   "cell_type": "code",
   "execution_count": null,
   "metadata": {},
   "outputs": [],
   "source": [
    "# %load ./init.ipy\n",
    "# Initialize Auto-Reloading Magic\n",
    "%reload_ext autoreload\n",
    "%autoreload 2\n",
    "\n",
    "# Standard Imports\n",
    "import os\n",
    "import sys\n",
    "import json\n",
    "import copy\n",
    "import shutil\n",
    "import datetime\n",
    "from collections import OrderedDict\n",
    "from importlib import reload\n",
    "import warnings\n",
    "\n",
    "# Package Imports\n",
    "import numpy as np\n",
    "import scipy as sp\n",
    "import matplotlib.pyplot as plt\n",
    "import matplotlib as mpl\n",
    "import matplotlib.patheffects\n",
    "\n",
    "# Silence annoying numpy errors\n",
    "np.seterr(divide='ignore', invalid='ignore', over='ignore')\n",
    "warnings.filterwarnings(\"ignore\", category=UserWarning)\n",
    "\n",
    "# Plotting settings\n",
    "mpl.rc('font', **{'family': 'serif', 'sans-serif': ['Times'], 'size': 12})\n",
    "mpl.rc('lines', solid_capstyle='round')\n",
    "mpl.rc('mathtext', fontset='cm')\n",
    "plt.rcParams.update({'grid.alpha': 0.5})"
   ]
  },
  {
   "cell_type": "code",
   "execution_count": null,
   "metadata": {},
   "outputs": [],
   "source": [
    "import zcode\n",
    "import zcode.math\n",
    "import zcode.math.statistic\n",
    "\n",
    "import zcode.plot as zplot"
   ]
  },
  {
   "cell_type": "markdown",
   "metadata": {},
   "source": [
    "# Latin Hypercube Sampling"
   ]
  },
  {
   "cell_type": "code",
   "execution_count": null,
   "metadata": {},
   "outputs": [],
   "source": [
    "lhc = zcode.math.statistic.LHC\n",
    "func = lhc.sample\n",
    "# crit = 'maximin'\n",
    "crit = 'centermaximin'\n",
    "\n",
    "nsamp = 4\n",
    "tries = 3\n",
    "fig, axes = plt.subplots(figsize=[14, 10], nrows=tries, ncols=tries)\n",
    "\n",
    "for (ii, jj), ax in np.ndenumerate(axes):\n",
    "    for xx in np.linspace(0.0, 1.0, nsamp+1):\n",
    "        ax.axvline(xx, ls='--', color='0.5', alpha=0.5)\n",
    "        ax.axhline(xx, ls='--', color='0.5', alpha=0.5)\n",
    "\n",
    "    vals = func(2, nsamp, criterion=crit).T\n",
    "    print(vals)\n",
    "    ax.scatter(*vals)\n",
    "    \n",
    "plt.show()"
   ]
  },
  {
   "cell_type": "code",
   "execution_count": null,
   "metadata": {},
   "outputs": [],
   "source": [
    "lhc = zcode.math.statistic.LHC\n",
    "func = lhc.sample\n",
    "crit = 'center'\n",
    "\n",
    "nsamp = 4\n",
    "tries = 3\n",
    "fig, axes = plt.subplots(figsize=[14, 10], nrows=tries, ncols=tries)\n",
    "\n",
    "for (ii, jj), ax in np.ndenumerate(axes):\n",
    "    for xx in np.linspace(0.0, 1.0, nsamp+1):\n",
    "        ax.axvline(xx, ls='--', color='0.5', alpha=0.5)\n",
    "        ax.axhline(xx, ls='--', color='0.5', alpha=0.5)\n",
    "\n",
    "    vals = func(2, nsamp, criterion=crit).T\n",
    "    print(vals)\n",
    "    ax.scatter(*vals)\n",
    "    \n",
    "plt.show()"
   ]
  },
  {
   "cell_type": "code",
   "execution_count": null,
   "metadata": {},
   "outputs": [],
   "source": [
    "def lhc_check(vals):\n",
    "    # ndim, nsamp = np.shape(vals)\n",
    "    nsamp, ndim = np.shape(vals)\n",
    "    edges = np.linspace(0.0, 1.0, nsamp+1)\n",
    "    xx = [edges[:-1][np.newaxis, :], edges[1:][np.newaxis, :]]\n",
    "    for jj in range(ndim):\n",
    "        good = (xx[0] < vals[:, jj, np.newaxis]) & (vals[:, jj, np.newaxis] < edges[1:])\n",
    "        for kk in range(2):\n",
    "            if np.any(np.count_nonzero(good, axis=kk) != 1):\n",
    "                print(f\"edges = {edges}\")\n",
    "                print(f\"vals[:, {jj}]) = {vals[:, jj]}\")\n",
    "                raise ValueError(f\"`vals` shape '{np.shape(vals)}' bad on par {jj}!\")\n",
    "\n",
    "    return"
   ]
  },
  {
   "cell_type": "code",
   "execution_count": null,
   "metadata": {},
   "outputs": [],
   "source": [
    "lhc = zcode.math.statistic.LHC\n",
    "func = lhc.sample\n",
    "cent = False\n",
    "\n",
    "nsamp = 4\n",
    "tries = 3\n",
    "fig, axes = plt.subplots(figsize=[14, 10], nrows=tries, ncols=tries)\n",
    "\n",
    "for (ii, jj), ax in np.ndenumerate(axes):\n",
    "    for xx in np.linspace(0.0, 1.0, nsamp+1):\n",
    "        ax.axvline(xx, ls='--', color='0.5', alpha=0.5)\n",
    "        ax.axhline(xx, ls='--', color='0.5', alpha=0.5)\n",
    "\n",
    "    vals = func(2, nsamp, center=cent, optimize='corr')\n",
    "    ax.scatter(*vals)\n",
    "    lhc_check(vals.T)\n",
    "    \n",
    "plt.show()"
   ]
  },
  {
   "cell_type": "code",
   "execution_count": null,
   "metadata": {},
   "outputs": [],
   "source": [
    "LH_Sampler = zcode.math.statistic.LH_Sampler\n",
    "\n",
    "PAR = 3\n",
    "# vals = PAR\n",
    "vals = [[0.0, 1.0], [-2.0, 3.0], [5.0, 200.0]]\n",
    "\n",
    "NUM = 10\n",
    "samp = LH_Sampler.sample(\n",
    "    vals, NUM, log=[False, False, True],\n",
    "    optimize='dist', center=True)\n",
    "print(samp.shape)\n",
    "\n",
    "fig, axes = zplot.figax(figsize=[16, 5], ncols=PAR, scale='lin')\n",
    "axes[0].set_yscale('log')\n",
    "axes[1].set_xscale('log')\n",
    "for ii, ax in enumerate(axes):\n",
    "    jj = (ii + 1) % 3\n",
    "    kk = (ii + 2) % 3\n",
    "    \n",
    "    xx = samp[jj]\n",
    "    yy = samp[kk]\n",
    "    ax.scatter(xx, yy)\n",
    "\n",
    "#     for zz in np.linspace(*vals[ii], NUM+1):\n",
    "#         for func in [ax.axvline, ax.axhline]:\n",
    "#             func(zz, alpha=0.5, color='r', ls=':')\n",
    "                \n",
    "plt.show()\n",
    "    "
   ]
  }
 ],
 "metadata": {
  "kernelspec": {
   "display_name": "Python 3",
   "language": "python",
   "name": "python3"
  },
  "language_info": {
   "codemirror_mode": {
    "name": "ipython",
    "version": 3
   },
   "file_extension": ".py",
   "mimetype": "text/x-python",
   "name": "python",
   "nbconvert_exporter": "python",
   "pygments_lexer": "ipython3",
   "version": "3.7.7"
  },
  "toc": {
   "base_numbering": 1,
   "nav_menu": {},
   "number_sections": true,
   "sideBar": true,
   "skip_h1_title": false,
   "title_cell": "Table of Contents",
   "title_sidebar": "Contents",
   "toc_cell": false,
   "toc_position": {},
   "toc_section_display": true,
   "toc_window_display": true
  },
  "varInspector": {
   "cols": {
    "lenName": 16,
    "lenType": 16,
    "lenVar": 40
   },
   "kernels_config": {
    "python": {
     "delete_cmd_postfix": "",
     "delete_cmd_prefix": "del ",
     "library": "var_list.py",
     "varRefreshCmd": "print(var_dic_list())"
    },
    "r": {
     "delete_cmd_postfix": ") ",
     "delete_cmd_prefix": "rm(",
     "library": "var_list.r",
     "varRefreshCmd": "cat(var_dic_list()) "
    }
   },
   "types_to_exclude": [
    "module",
    "function",
    "builtin_function_or_method",
    "instance",
    "_Feature"
   ],
   "window_display": false
  }
 },
 "nbformat": 4,
 "nbformat_minor": 4
}
