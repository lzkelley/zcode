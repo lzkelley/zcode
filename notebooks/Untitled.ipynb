{
 "cells": [
  {
   "cell_type": "code",
   "execution_count": null,
   "metadata": {},
   "outputs": [],
   "source": [
    "import numpy as np\n",
    "import matplotlib.pyplot as plt\n",
    "\n",
    "import zcode.math as zmath\n",
    "import zcode.plot as zplot\n"
   ]
  },
  {
   "cell_type": "code",
   "execution_count": null,
   "metadata": {},
   "outputs": [],
   "source": [
    "bounds = [10.0, 23.0]\n",
    "# bounds = [10, 100]\n",
    "xx = np.logspace(0, 2, 100)\n",
    "amp = 3.0\n",
    "gamma = -1.8\n",
    "\n",
    "def func(zz):\n",
    "    return amp * np.power(zz, gamma)\n",
    "\n",
    "yy = func(xx)\n",
    "\n",
    "bounds = np.array(bounds)\n",
    "limits = func(bounds)\n",
    "exact = np.diff(limits * bounds)[0] / (gamma + 1)\n",
    "\n",
    "test_dadx = zmath.cumtrapz_loglog(yy, xx, bounds=bounds, dlogx=None)\n",
    "error = (test_dadx - exact) / exact\n",
    "\n",
    "print(\"dA/dx, true: {:.4e}, test: {:.4e}, error = {:.4e}\".format(exact, test_dadx, error))\n",
    "\n",
    "\n",
    "log_base = np.e\n",
    "gamma = np.diff(np.log(yy)) / np.diff(np.log(xx))\n",
    "\n",
    "dz = np.diff(yy * xx)\n",
    "trapz = dz / (gamma + 1)\n",
    "integ = np.log(log_base) * np.cumsum(trapz)\n",
    "\n",
    "fig, ax = zplot.figax(yscale='log')\n",
    "ax.plot(xx, yy)\n",
    "# ax.plot(xx[1:], integ)\n",
    "# ax.plot(xx[1:], gamma)\n",
    "plt.show()\n"
   ]
  }
 ],
 "metadata": {
  "kernelspec": {
   "display_name": "Python 3",
   "language": "python",
   "name": "python3"
  },
  "language_info": {
   "codemirror_mode": {
    "name": "ipython",
    "version": 3
   },
   "file_extension": ".py",
   "mimetype": "text/x-python",
   "name": "python",
   "nbconvert_exporter": "python",
   "pygments_lexer": "ipython3",
   "version": "3.7.7"
  },
  "toc": {
   "base_numbering": 1,
   "nav_menu": {},
   "number_sections": true,
   "sideBar": false,
   "skip_h1_title": false,
   "title_cell": "Table of Contents",
   "title_sidebar": "Contents",
   "toc_cell": false,
   "toc_position": {},
   "toc_section_display": false,
   "toc_window_display": true
  },
  "varInspector": {
   "cols": {
    "lenName": 16,
    "lenType": 16,
    "lenVar": 40
   },
   "kernels_config": {
    "python": {
     "delete_cmd_postfix": "",
     "delete_cmd_prefix": "del ",
     "library": "var_list.py",
     "varRefreshCmd": "print(var_dic_list())"
    },
    "r": {
     "delete_cmd_postfix": ") ",
     "delete_cmd_prefix": "rm(",
     "library": "var_list.r",
     "varRefreshCmd": "cat(var_dic_list()) "
    }
   },
   "types_to_exclude": [
    "module",
    "function",
    "builtin_function_or_method",
    "instance",
    "_Feature"
   ],
   "window_display": false
  }
 },
 "nbformat": 4,
 "nbformat_minor": 2
}
